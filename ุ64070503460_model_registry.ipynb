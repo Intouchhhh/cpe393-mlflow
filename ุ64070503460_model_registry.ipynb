{
 "cells": [
  {
   "cell_type": "code",
   "execution_count": 26,
   "id": "8889c455",
   "metadata": {},
   "outputs": [],
   "source": [
    "from mlflow.tracking import MlflowClient\n",
    "import mlflow\n",
    "\n",
    "MLFLOW_TRACKING_URI = \"http://127.0.0.1:5000\""
   ]
  },
  {
   "cell_type": "code",
   "execution_count": 27,
   "id": "cbf83c5b",
   "metadata": {},
   "outputs": [
    {
     "data": {
      "text/plain": [
       "[<Experiment: artifact_location='mlflow-artifacts:/398662229275304820', creation_time=1747326044570, experiment_id='398662229275304820', last_update_time=1747326044570, lifecycle_stage='active', name='my-new-experiment', tags={}>,\n",
       " <Experiment: artifact_location='mlflow-artifacts:/705382483651804432', creation_time=1747325141755, experiment_id='705382483651804432', last_update_time=1747325141755, lifecycle_stage='active', name='my-experiment-2', tags={}>,\n",
       " <Experiment: artifact_location='file:///c:/ML/cpe393-mlflow/mlruns/938325151512188093', creation_time=1747321085741, experiment_id='938325151512188093', last_update_time=1747321085741, lifecycle_stage='active', name='my-experiment-1', tags={}>,\n",
       " <Experiment: artifact_location='file:///c:/ML/cpe393-mlflow/mlruns/0', creation_time=1747321078030, experiment_id='0', last_update_time=1747321078030, lifecycle_stage='active', name='Default', tags={}>]"
      ]
     },
     "execution_count": 27,
     "metadata": {},
     "output_type": "execute_result"
    }
   ],
   "source": [
    "client = MlflowClient(tracking_uri=MLFLOW_TRACKING_URI)\n",
    "\n",
    "client.search_experiments()"
   ]
  },
  {
   "cell_type": "code",
   "execution_count": 30,
   "id": "d3be87b9",
   "metadata": {},
   "outputs": [
    {
     "data": {
      "text/plain": [
       "'142066508938646353'"
      ]
     },
     "execution_count": 30,
     "metadata": {},
     "output_type": "execute_result"
    }
   ],
   "source": [
    "client.create_experiment(name=\"my-new-experiment2\")"
   ]
  },
  {
   "cell_type": "code",
   "execution_count": 31,
   "id": "d396d2b8",
   "metadata": {},
   "outputs": [],
   "source": [
    "from mlflow.entities import ViewType\n",
    "\n",
    "runs = client.search_runs(\n",
    "    experiment_ids='',\n",
    "    filter_string=\"metrics.rmse < 100\",\n",
    "    run_view_type=ViewType.ACTIVE_ONLY,\n",
    "    max_results=5,\n",
    "    order_by=[\"metrics.rmse ASC\"]\n",
    ")"
   ]
  },
  {
   "cell_type": "code",
   "execution_count": 32,
   "id": "3e5411a7",
   "metadata": {},
   "outputs": [],
   "source": [
    "for run in runs:\n",
    "    print(f\"run id: {run.info.run_id}, rmse: {run.data.metrics['rmse']:.4f}\")"
   ]
  },
  {
   "cell_type": "code",
   "execution_count": 33,
   "id": "d3b8f334",
   "metadata": {},
   "outputs": [],
   "source": [
    "import mlflow\n",
    "\n",
    "mlflow.set_tracking_uri(MLFLOW_TRACKING_URI)"
   ]
  },
  {
   "cell_type": "code",
   "execution_count": null,
   "id": "7cf472b1",
   "metadata": {},
   "outputs": [
    {
     "name": "stderr",
     "output_type": "stream",
     "text": [
      "Registered model 'nyc-taxi-regressor' already exists. Creating a new version of this model...\n",
      "2025/05/15 23:27:55 INFO mlflow.store.model_registry.abstract_store: Waiting up to 300 seconds for model version to finish creation. Model name: nyc-taxi-regressor, version 3\n",
      "Created version '3' of model 'nyc-taxi-regressor'.\n"
     ]
    },
    {
     "data": {
      "text/plain": [
       "<ModelVersion: aliases=[], creation_timestamp=1747326475248, current_stage='None', description='', last_updated_timestamp=1747326475248, name='nyc-taxi-regressor', run_id='0c7832b42c4e4779a759b099ea548adf', run_link='', source='file:///c:/ML/cpe393-mlflow/mlruns/938325151512188093/0c7832b42c4e4779a759b099ea548adf/artifacts/model', status='READY', status_message=None, tags={}, user_id='', version='3'>"
      ]
     },
     "execution_count": 34,
     "metadata": {},
     "output_type": "execute_result"
    }
   ],
   "source": [
    "run_id = \"0c7832b42c4e4779a759b099ea548adf\"  #insert your run id\n",
    "model_uri = f\"runs:/{run_id}/model\"\n",
    "mlflow.register_model(model_uri=model_uri, name=\"nyc-taxi-regressor\")"
   ]
  },
  {
   "cell_type": "code",
   "execution_count": 35,
   "id": "cb87b550",
   "metadata": {},
   "outputs": [
    {
     "name": "stdout",
     "output_type": "stream",
     "text": [
      "version: 3, stage: None\n"
     ]
    },
    {
     "name": "stderr",
     "output_type": "stream",
     "text": [
      "C:\\Users\\intou\\AppData\\Local\\Temp\\ipykernel_38628\\1279244624.py:3: FutureWarning: ``mlflow.tracking.client.MlflowClient.get_latest_versions`` is deprecated since 2.9.0. Model registry stages will be removed in a future major release. To learn more about the deprecation of model registry stages, see our migration guide here: https://mlflow.org/docs/latest/model-registry.html#migrating-from-stages\n",
      "  latest_versions = client.get_latest_versions(name=model_name)\n"
     ]
    }
   ],
   "source": [
    "#check model version and stages\n",
    "model_name = \"nyc-taxi-regressor\"\n",
    "latest_versions = client.get_latest_versions(name=model_name)\n",
    "\n",
    "for version in latest_versions:\n",
    "    print(f\"version: {version.version}, stage: {version.current_stage}\")"
   ]
  },
  {
   "cell_type": "code",
   "execution_count": 36,
   "id": "64bc99f5",
   "metadata": {},
   "outputs": [],
   "source": [
    "model_version = 4\n",
    "new_stage = \"Staging\"\n",
    "# Use client.transition_model_version_stage() function to model to staging."
   ]
  },
  {
   "cell_type": "code",
   "execution_count": 37,
   "id": "ae5f0623",
   "metadata": {},
   "outputs": [
    {
     "name": "stderr",
     "output_type": "stream",
     "text": [
      "<>:4: SyntaxWarning: invalid escape sequence '\\M'\n",
      "<>:4: SyntaxWarning: invalid escape sequence '\\M'\n",
      "C:\\Users\\intou\\AppData\\Local\\Temp\\ipykernel_38628\\2873031252.py:4: SyntaxWarning: invalid escape sequence '\\M'\n",
      "  df = pd.read_csv(\"C:\\ML\\cpe393-mlflow\\green_tripdata_2019-03.csv\", nrows=10000)\n"
     ]
    }
   ],
   "source": [
    "\n",
    "import pandas as pd\n",
    "\n",
    "# Load March 2021 dataset (you can increase nrows if needed)\n",
    "df = pd.read_csv(\"C:\\ML\\cpe393-mlflow\\green_tripdata_2019-03.csv\", nrows=10000)\n",
    "\n",
    "# Feature Engineering\n",
    "df['pickup_datetime'] = pd.to_datetime(df['lpep_pickup_datetime'])\n",
    "df['dropoff_datetime'] = pd.to_datetime(df['lpep_dropoff_datetime'])\n",
    "df['duration'] = (df['dropoff_datetime'] - df['pickup_datetime']).dt.total_seconds() / 60\n",
    "df = df[(df['duration'] >= 1) & (df['duration'] <= 60)]\n",
    "\n",
    "# Convert categorical to string\n",
    "categorical = ['PULocationID', 'DOLocationID']\n",
    "df[categorical] = df[categorical].astype(str)\n",
    "\n",
    "# Convert to dict for vectorizer\n",
    "dicts = df[categorical].to_dict(orient='records')\n"
   ]
  },
  {
   "cell_type": "code",
   "execution_count": 42,
   "id": "4779f30b",
   "metadata": {},
   "outputs": [
    {
     "ename": "PermissionError",
     "evalue": "[Errno 13] Permission denied: 'C:\\\\ML\\\\cpe393-mlflow\\\\mlruns\\\\938325151512188093\\\\0c7832b42c4e4779a759b099ea548adf\\\\artifacts'",
     "output_type": "error",
     "traceback": [
      "\u001b[31m---------------------------------------------------------------------------\u001b[39m",
      "\u001b[31mPermissionError\u001b[39m                           Traceback (most recent call last)",
      "\u001b[36mCell\u001b[39m\u001b[36m \u001b[39m\u001b[32mIn[42]\u001b[39m\u001b[32m, line 8\u001b[39m\n\u001b[32m      4\u001b[39m \u001b[38;5;66;03m# Replace with actual run_id if known, or use MLflow UI to find it\u001b[39;00m\n\u001b[32m      5\u001b[39m \u001b[38;5;66;03m# Example path - adjust this\u001b[39;00m\n\u001b[32m      6\u001b[39m vectorizer_path = mlflow.artifacts.download_artifacts(run_id=\u001b[33m\"\u001b[39m\u001b[33m0c7832b42c4e4779a759b099ea548adf\u001b[39m\u001b[33m\"\u001b[39m)\n\u001b[32m----> \u001b[39m\u001b[32m8\u001b[39m \u001b[38;5;28;01mwith\u001b[39;00m \u001b[38;5;28;43mopen\u001b[39;49m\u001b[43m(\u001b[49m\u001b[43mvectorizer_path\u001b[49m\u001b[43m,\u001b[49m\u001b[43m \u001b[49m\u001b[33;43m\"\u001b[39;49m\u001b[33;43mrb\u001b[39;49m\u001b[33;43m\"\u001b[39;49m\u001b[43m)\u001b[49m \u001b[38;5;28;01mas\u001b[39;00m f:\n\u001b[32m      9\u001b[39m     dv = pickle.load(f)\n\u001b[32m     11\u001b[39m \u001b[38;5;66;03m# Transform test set\u001b[39;00m\n",
      "\u001b[36mFile \u001b[39m\u001b[32m~\\AppData\\Roaming\\Python\\Python312\\site-packages\\IPython\\core\\interactiveshell.py:326\u001b[39m, in \u001b[36m_modified_open\u001b[39m\u001b[34m(file, *args, **kwargs)\u001b[39m\n\u001b[32m    319\u001b[39m \u001b[38;5;28;01mif\u001b[39;00m file \u001b[38;5;129;01min\u001b[39;00m {\u001b[32m0\u001b[39m, \u001b[32m1\u001b[39m, \u001b[32m2\u001b[39m}:\n\u001b[32m    320\u001b[39m     \u001b[38;5;28;01mraise\u001b[39;00m \u001b[38;5;167;01mValueError\u001b[39;00m(\n\u001b[32m    321\u001b[39m         \u001b[33mf\u001b[39m\u001b[33m\"\u001b[39m\u001b[33mIPython won\u001b[39m\u001b[33m'\u001b[39m\u001b[33mt let you open fd=\u001b[39m\u001b[38;5;132;01m{\u001b[39;00mfile\u001b[38;5;132;01m}\u001b[39;00m\u001b[33m by default \u001b[39m\u001b[33m\"\u001b[39m\n\u001b[32m    322\u001b[39m         \u001b[33m\"\u001b[39m\u001b[33mas it is likely to crash IPython. If you know what you are doing, \u001b[39m\u001b[33m\"\u001b[39m\n\u001b[32m    323\u001b[39m         \u001b[33m\"\u001b[39m\u001b[33myou can use builtins\u001b[39m\u001b[33m'\u001b[39m\u001b[33m open.\u001b[39m\u001b[33m\"\u001b[39m\n\u001b[32m    324\u001b[39m     )\n\u001b[32m--> \u001b[39m\u001b[32m326\u001b[39m \u001b[38;5;28;01mreturn\u001b[39;00m \u001b[43mio_open\u001b[49m\u001b[43m(\u001b[49m\u001b[43mfile\u001b[49m\u001b[43m,\u001b[49m\u001b[43m \u001b[49m\u001b[43m*\u001b[49m\u001b[43margs\u001b[49m\u001b[43m,\u001b[49m\u001b[43m \u001b[49m\u001b[43m*\u001b[49m\u001b[43m*\u001b[49m\u001b[43mkwargs\u001b[49m\u001b[43m)\u001b[49m\n",
      "\u001b[31mPermissionError\u001b[39m: [Errno 13] Permission denied: 'C:\\\\ML\\\\cpe393-mlflow\\\\mlruns\\\\938325151512188093\\\\0c7832b42c4e4779a759b099ea548adf\\\\artifacts'"
     ]
    }
   ],
   "source": [
    "import mlflow\n",
    "import pickle\n",
    "\n",
    "# Replace with actual run_id if known, or use MLflow UI to find it\n",
    "# Example path - adjust this\n",
    "vectorizer_path = mlflow.artifacts.download_artifacts(run_id=\"0c7832b42c4e4779a759b099ea548adf\")\n",
    "\n",
    "with open(vectorizer_path, \"rb\") as f:\n",
    "    dv = pickle.load(f)\n",
    "\n",
    "# Transform test set\n",
    "X_test = dv.transform(dicts)"
   ]
  }
 ],
 "metadata": {
  "kernelspec": {
   "display_name": "Python 3",
   "language": "python",
   "name": "python3"
  },
  "language_info": {
   "codemirror_mode": {
    "name": "ipython",
    "version": 3
   },
   "file_extension": ".py",
   "mimetype": "text/x-python",
   "name": "python",
   "nbconvert_exporter": "python",
   "pygments_lexer": "ipython3",
   "version": "3.12.8"
  }
 },
 "nbformat": 4,
 "nbformat_minor": 5
}
